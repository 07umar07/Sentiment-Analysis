{
  "cells": [
    {
      "cell_type": "markdown",
      "metadata": {
        "id": "i-Dxlnpa8ndL"
      },
      "source": [
        "# **Import the libraries**"
      ]
    },
    {
      "cell_type": "code",
      "execution_count": 14,
      "metadata": {
        "id": "kA-Tl6l5UIKX"
      },
      "outputs": [],
      "source": [
        "import tensorflow as tf\n",
        "import pandas as pd\n",
        "import csv\n",
        "import numpy as np\n",
        "import matplotlib.pyplot as plt\n",
        "from imblearn.over_sampling import SMOTE\n",
        "from tensorflow.keras.regularizers import l2\n",
        "from tensorflow.keras.layers import LSTM, Embedding, Dense, Bidirectional, GRU\n",
        "from tensorflow.keras.models import Sequential, load_model\n",
        "from tensorflow.keras.preprocessing.sequence import pad_sequences\n",
        "from tensorflow.keras.preprocessing.text import Tokenizer\n",
        "from sklearn.model_selection import train_test_split\n",
        "from sklearn.metrics import f1_score\n",
        "from tensorflow.keras.losses import SparseCategoricalCrossentropy\n",
        "from tensorflow.keras.optimizers import Adam\n",
        "from google.colab import drive\n",
        "\n",
        "# Created by Umar Abdul Hakim Robbani"
      ]
    },
    {
      "cell_type": "markdown",
      "metadata": {
        "id": "5D3Jb2VrUzg_"
      },
      "source": [
        "# **Load Datasets**"
      ]
    },
    {
      "cell_type": "code",
      "execution_count": 15,
      "metadata": {
        "colab": {
          "base_uri": "https://localhost:8080/"
        },
        "id": "GUbq7rokU1Or",
        "outputId": "992bafb3-66c2-4835-8b79-5a0f262c76b1"
      },
      "outputs": [
        {
          "name": "stdout",
          "output_type": "stream",
          "text": [
            "Drive already mounted at /content/drive; to attempt to forcibly remount, call drive.mount(\"/content/drive\", force_remount=True).\n",
            "<bound method NDFrame.head of        Unnamed: 0                                          statement   status\n",
            "0               0                                         oh my gosh  Anxiety\n",
            "1               1  trouble sleeping, confused mind, restless hear...  Anxiety\n",
            "2               2  All wrong, back off dear, forward doubt. Stay ...  Anxiety\n",
            "3               3  I've shifted my focus to something else but I'...  Anxiety\n",
            "4               4  I'm restless and restless, it's been a month n...  Anxiety\n",
            "...           ...                                                ...      ...\n",
            "53038       53038  Nobody takes me seriously I’ve (24M) dealt wit...  Anxiety\n",
            "53039       53039  selfishness  \"I don't feel very good, it's lik...  Anxiety\n",
            "53040       53040  Is there any way to sleep better? I can't slee...  Anxiety\n",
            "53041       53041  Public speaking tips? Hi, all. I have to give ...  Anxiety\n",
            "53042       53042  I have really bad door anxiety! It's not about...  Anxiety\n",
            "\n",
            "[53043 rows x 3 columns]>\n",
            "                                           statement   status\n",
            "0                                         oh my gosh  Anxiety\n",
            "1  trouble sleeping, confused mind, restless hear...  Anxiety\n",
            "2  All wrong, back off dear, forward doubt. Stay ...  Anxiety\n",
            "3  I've shifted my focus to something else but I'...  Anxiety\n",
            "4  I'm restless and restless, it's been a month n...  Anxiety\n",
            "unik : ['Anxiety' 'Normal' 'Depression' 'Suicidal' 'Stress' 'Bipolar'\n",
            " 'Personality disorder']\n"
          ]
        }
      ],
      "source": [
        "drive.mount('/content/drive')\n",
        "\n",
        "\n",
        "df = pd.read_csv('Combined Data.csv')\n",
        "print(df.head)\n",
        "df = df.drop(df.columns[0], axis = 1)\n",
        "print(df.head())\n",
        "print(f\"unik : {df['status'].unique()}\")"
      ]
    },
    {
      "cell_type": "markdown",
      "metadata": {
        "id": "_wjRKYXG4u1y"
      },
      "source": [
        "# **Visualize Data**\n",
        "Count the total of each states value and separate those to different columns so the status data could be visualized."
      ]
    },
    {
      "cell_type": "code",
      "execution_count": 16,
      "metadata": {
        "colab": {
          "base_uri": "https://localhost:8080/",
          "height": 730
        },
        "id": "UfnnKe074xoN",
        "outputId": "c74426ad-dce2-43c5-cc5f-2479362cb2fe"
      },
      "outputs": [
        {
          "name": "stdout",
          "output_type": "stream",
          "text": [
            "info: status\n",
            "Normal                  16351\n",
            "Depression              15404\n",
            "Suicidal                10653\n",
            "Anxiety                  3888\n",
            "Bipolar                  2877\n",
            "Stress                   2669\n",
            "Personality disorder     1201\n",
            "Name: count, dtype: int64\n"
          ]
        },
        {
          "data": {
            "image/png": "[encoded data removed]",
            "text/plain": [
              "<Figure size 1100x700 with 1 Axes>"
            ]
          },
          "metadata": {},
          "output_type": "display_data"
        }
      ],
      "source": [
        "status_recorded = df['status'].value_counts() # Count the total of each values in columns 'status'\n",
        "status_recorded = status_recorded.reset_index() # Reset the index so we could create new columns\n",
        "status_recorded.columns = ['Status', 'Count'] # Assign status to first column and the other one to second column\n",
        "plt.figure(figsize=(11, 7))\n",
        "plt.bar(status_recorded['Status'], status_recorded['Count']) # Visualize the status recorded\n",
        "plt.title('Total Count of Every Condition')\n",
        "print(f\"info: {df['status'].value_counts()}\")\n",
        "plt.show()"
      ]
    },
    {
      "cell_type": "markdown",
      "metadata": {
        "id": "E8bdjH1pAZCg"
      },
      "source": [
        "Visualize of common words that represent the status - condition."
      ]
    },
    {
      "cell_type": "code",
      "execution_count": 17,
      "metadata": {
        "colab": {
          "base_uri": "https://localhost:8080/",
          "height": 521
        },
        "id": "sRvYS_MGAfn-",
        "outputId": "1d02f1fd-77f7-4839-e307-6dc818132c2e"
      },
      "outputs": [
        {
          "name": "stdout",
          "output_type": "stream",
          "text": [
            "Percentages of Thank word appeared: 6.05%\n",
            "Percentages of Nice word appeared: 2.34%\n",
            "Percentages of Doubt word appeared: 0.97%\n",
            "Percentages of Worried word appeared: 2.53%\n"
          ]
        },
        {
          "data": {
            "image/png": "[encoded data removed]",
            "text/plain": [
              "<Figure size 640x480 with 1 Axes>"
            ]
          },
          "metadata": {},
          "output_type": "display_data"
        }
      ],
      "source": [
        "Thank = (df[(df.statement.str.contains(\"Thank\", na= False))].shape[0]/len(df)) * 100\n",
        "thank = (df[(df.statement.str.contains(\"thank\", na= False))].shape[0]/len(df)) * 100 + Thank\n",
        "nice = (df[(df.statement.str.contains(\"nice\", na= False))].shape[0]/len(df)) * 100\n",
        "Nice = (df[(df.statement.str.contains(\"Nice\", na= False))].shape[0]/len(df)) * 100 + nice\n",
        "doubt = (df[(df.statement.str.contains(\"doubt\", na= False))].shape[0]/len(df)) * 100\n",
        "Doubt = (df[(df.statement.str.contains(\"Doubt\", na= False))].shape[0]/len(df)) * 100 + doubt\n",
        "worried = (df[(df.statement.str.contains(\"worried\", na= False))].shape[0]/len(df)) * 100\n",
        "Worried = (df[(df.statement.str.contains(\"Worried\", na= False))].shape[0]/len(df)) * 100 + worried\n",
        "\n",
        "labels = ['Thank', 'Nice', 'Doubt', 'Worried']\n",
        "values = [thank, Nice, Doubt, Worried]\n",
        "plt.bar(labels, values, color = ['Green', 'Blue', 'Grey', 'Black'])\n",
        "plt.title('Percentages of each word Thank, Nice, Doubt, and Worried appeared')\n",
        "plt.ylabel('Percentages (%)')\n",
        "print(f\"Percentages of Thank word appeared: {thank:.2f}%\")\n",
        "print(f\"Percentages of Nice word appeared: {Nice:.2f}%\")\n",
        "print(f\"Percentages of Doubt word appeared: {Doubt:.2f}%\")\n",
        "print(f\"Percentages of Worried word appeared: {Worried:.2f}%\")\n",
        "plt.show()"
      ]
    },
    {
      "cell_type": "markdown",
      "metadata": {
        "id": "4etmBn31VyD5"
      },
      "source": [
        "# **Data Preparation**\n",
        "We map the status columns as the key with the integer value from 0 to 6 for categorical classification."
      ]
    },
    {
      "cell_type": "code",
      "execution_count": 18,
      "metadata": {
        "id": "Zh_UB1HyV0hO"
      },
      "outputs": [],
      "source": [
        "mapping = {\n",
        "  'Normal': 0,\n",
        "  'Depression': 1,\n",
        "  'Suicidal': 2,\n",
        "  'Anxiety': 3,\n",
        "  'Bipolar': 4,\n",
        "  'Stress': 5,\n",
        "  'Personality disorder': 6\n",
        "}\n",
        "\n",
        "df['status'] = df['status'].map(mapping)\n",
        "X = df['statement'].astype(str)\n",
        "y = df['status']\n",
        "\n"
      ]
    },
    {
      "cell_type": "markdown",
      "metadata": {
        "id": "QZ5VfN4l7uMa"
      },
      "source": [
        "After that we splid the data with ration between train, cv, and test = 99/0.5/0.5"
      ]
    },
    {
      "cell_type": "code",
      "execution_count": 19,
      "metadata": {
        "id": "FfiTCfSn7ubV"
      },
      "outputs": [],
      "source": [
        "X_train, X_tmp, y_train, y_tmp = train_test_split(X, y, test_size=0.01, random_state=37)\n",
        "X_test, X_cv, y_test, y_cv = train_test_split(X_tmp, y_tmp, test_size=0.5, random_state=37)"
      ]
    },
    {
      "cell_type": "markdown",
      "metadata": {
        "id": "8RGCaf_lV_o3"
      },
      "source": [
        "And then tokenize the words from the X_train, X_cv and X_test"
      ]
    },
    {
      "cell_type": "code",
      "execution_count": 20,
      "metadata": {
        "colab": {
          "base_uri": "https://localhost:8080/"
        },
        "id": "HHAiY9qFWBSv",
        "outputId": "9960f295-737b-4210-de2a-38f99ef7380e"
      },
      "outputs": [
        {
          "name": "stdout",
          "output_type": "stream",
          "text": [
            "X_train_pad: [[   0    0    0 ...    2  260 2971]\n",
            " [   0    0    0 ...   22 6965   69]\n",
            " [   0    0    0 ...   53  193 3188]\n",
            " ...\n",
            " [   0    0    0 ...   15   10  248]\n",
            " [  35    1   14 ...    1   24  415]\n",
            " [   0    0    0 ...  111  103 2108]]\n"
          ]
        }
      ],
      "source": [
        "tokenizer = Tokenizer(num_words = 10000)\n",
        "tokenizer.fit_on_texts(X_train)\n",
        "X_train_sequences = tokenizer.texts_to_sequences(X_train)\n",
        "X_test_sequences = tokenizer.texts_to_sequences(X_test)\n",
        "X_cv_sequences = tokenizer.texts_to_sequences(X_cv)\n",
        "# print(f\"X seq = {X_train_sequences}\")\n",
        "\n",
        "max_length = 150\n",
        "X_train_pad = pad_sequences(X_train_sequences, maxlen = max_length)\n",
        "X_test_pad = pad_sequences(X_test_sequences, maxlen = max_length)\n",
        "X_cv_pad = pad_sequences(X_cv_sequences, maxlen = max_length)\n",
        "print(f\"X_train_pad: {X_train_pad}\")"
      ]
    },
    {
      "cell_type": "code",
      "execution_count": 21,
      "metadata": {
        "colab": {
          "base_uri": "https://localhost:8080/"
        },
        "id": "b3dajqaR5Kw1",
        "outputId": "0f37c96b-c28e-44f7-8fbc-9d9f297922d7"
      },
      "outputs": [
        {
          "name": "stderr",
          "output_type": "stream",
          "text": [
            "/usr/local/lib/python3.10/dist-packages/sklearn/base.py:474: FutureWarning: `BaseEstimator._validate_data` is deprecated in 1.6 and will be removed in 1.7. Use `sklearn.utils.validation.validate_data` instead. This function becomes public and is part of the scikit-learn developer API.\n",
            "  warnings.warn(\n",
            "/usr/local/lib/python3.10/dist-packages/sklearn/utils/_tags.py:354: FutureWarning: The SMOTE or classes from which it inherits use `_get_tags` and `_more_tags`. Please define the `__sklearn_tags__` method, or inherit from `sklearn.base.BaseEstimator` and/or other appropriate mixins such as `sklearn.base.TransformerMixin`, `sklearn.base.ClassifierMixin`, `sklearn.base.RegressorMixin`, and `sklearn.base.OutlierMixin`. From scikit-learn 1.7, not defining `__sklearn_tags__` will raise an error.\n",
            "  warnings.warn(\n"
          ]
        }
      ],
      "source": [
        "sm = SMOTE(random_state=42)\n",
        "X_train_pad, y_train = sm.fit_resample(X_train_pad, y_train)"
      ]
    },
    {
      "cell_type": "markdown",
      "metadata": {
        "id": "rx1sPXX9WFlP"
      },
      "source": [
        "# **Model Processing**\n",
        "And then build the architecture with:\n",
        "1. Embedding layer with 100 x 128 input dimension and regularization value = 1x10^-1000\n",
        "2. Three bidirectional LSTM RNN with the first couple of those using parameter return_sequences= True so it uses all from each timestep as the output.\n",
        "3. Fully connected layer with 7 units and softmax activation used with input from LSTM and gives the categorical output.\n",
        "\n",
        "Model compiled with Sparse CategoricalCrossentropy so it gives categorical value between 0 - 6 like we mapped before, also with adam optimizer and accuracy metrics.\n",
        "\n",
        "Model trained with X_train and the target label y_train with 10 epochs, 16 batch_size, and validation set from X_cv & y_cv. The epochs is for gradient descent to work, batch_size to use parallel processing, and the CV (Cross Validation) to enhance the algorithm with the unseen data in the gradient descent process.\n",
        "```\n",
        "# This is formatted as code\n",
        "```\n",
        "\n"
      ]
    },
    {
      "cell_type": "code",
      "execution_count": 22,
      "metadata": {
        "colab": {
          "base_uri": "https://localhost:8080/"
        },
        "id": "-Lm_Eyg8WJCD",
        "outputId": "f66930fa-35c0-4a61-8742-007ace00772e"
      },
      "outputs": [
        {
          "name": "stdout",
          "output_type": "stream",
          "text": [
            "Epoch 1/15\n",
            "\u001b[1m3541/3541\u001b[0m \u001b[32m━━━━━━━━━━━━━━━━━━━━\u001b[0m\u001b[37m\u001b[0m \u001b[1m208s\u001b[0m 57ms/step - accuracy: 0.3929 - loss: 1.6280 - val_accuracy: 0.5827 - val_loss: 0.9756\n",
            "Epoch 2/15\n",
            "\u001b[1m3541/3541\u001b[0m \u001b[32m━━━━━━━━━━━━━━━━━━━━\u001b[0m\u001b[37m\u001b[0m \u001b[1m200s\u001b[0m 56ms/step - accuracy: 0.4753 - loss: 1.3446 - val_accuracy: 0.6504 - val_loss: 0.8651\n",
            "Epoch 3/15\n",
            "\u001b[1m3541/3541\u001b[0m \u001b[32m━━━━━━━━━━━━━━━━━━━━\u001b[0m\u001b[37m\u001b[0m \u001b[1m199s\u001b[0m 56ms/step - accuracy: 0.5154 - loss: 1.2620 - val_accuracy: 0.7143 - val_loss: 0.8568\n",
            "Epoch 4/15\n",
            "\u001b[1m3541/3541\u001b[0m \u001b[32m━━━━━━━━━━━━━━━━━━━━\u001b[0m\u001b[37m\u001b[0m \u001b[1m201s\u001b[0m 55ms/step - accuracy: 0.5530 - loss: 1.1874 - val_accuracy: 0.7293 - val_loss: 0.7391\n",
            "Epoch 5/15\n",
            "\u001b[1m3541/3541\u001b[0m \u001b[32m━━━━━━━━━━━━━━━━━━━━\u001b[0m\u001b[37m\u001b[0m \u001b[1m205s\u001b[0m 56ms/step - accuracy: 0.5689 - loss: 1.1469 - val_accuracy: 0.7632 - val_loss: 0.6932\n",
            "Epoch 6/15\n",
            "\u001b[1m3541/3541\u001b[0m \u001b[32m━━━━━━━━━━━━━━━━━━━━\u001b[0m\u001b[37m\u001b[0m \u001b[1m204s\u001b[0m 57ms/step - accuracy: 0.5822 - loss: 1.1117 - val_accuracy: 0.7669 - val_loss: 0.7037\n",
            "Epoch 7/15\n",
            "\u001b[1m3541/3541\u001b[0m \u001b[32m━━━━━━━━━━━━━━━━━━━━\u001b[0m\u001b[37m\u001b[0m \u001b[1m199s\u001b[0m 56ms/step - accuracy: 0.5953 - loss: 1.0817 - val_accuracy: 0.7594 - val_loss: 0.7112\n",
            "Epoch 8/15\n",
            "\u001b[1m3541/3541\u001b[0m \u001b[32m━━━━━━━━━━━━━━━━━━━━\u001b[0m\u001b[37m\u001b[0m \u001b[1m200s\u001b[0m 56ms/step - accuracy: 0.6092 - loss: 1.0543 - val_accuracy: 0.7594 - val_loss: 0.7310\n",
            "Epoch 9/15\n",
            "\u001b[1m3541/3541\u001b[0m \u001b[32m━━━━━━━━━━━━━━━━━━━━\u001b[0m\u001b[37m\u001b[0m \u001b[1m201s\u001b[0m 55ms/step - accuracy: 0.6251 - loss: 1.0194 - val_accuracy: 0.7632 - val_loss: 0.7404\n",
            "Epoch 10/15\n",
            "\u001b[1m3541/3541\u001b[0m \u001b[32m━━━━━━━━━━━━━━━━━━━━\u001b[0m\u001b[37m\u001b[0m \u001b[1m203s\u001b[0m 56ms/step - accuracy: 0.6397 - loss: 0.9906 - val_accuracy: 0.7481 - val_loss: 0.6989\n",
            "Epoch 11/15\n",
            "\u001b[1m3541/3541\u001b[0m \u001b[32m━━━━━━━━━━━━━━━━━━━━\u001b[0m\u001b[37m\u001b[0m \u001b[1m200s\u001b[0m 55ms/step - accuracy: 0.6644 - loss: 0.9377 - val_accuracy: 0.7707 - val_loss: 0.7376\n",
            "Epoch 12/15\n",
            "\u001b[1m3541/3541\u001b[0m \u001b[32m━━━━━━━━━━━━━━━━━━━━\u001b[0m\u001b[37m\u001b[0m \u001b[1m202s\u001b[0m 55ms/step - accuracy: 0.6898 - loss: 0.8905 - val_accuracy: 0.7519 - val_loss: 0.7774\n",
            "Epoch 13/15\n",
            "\u001b[1m3541/3541\u001b[0m \u001b[32m━━━━━━━━━━━━━━━━━━━━\u001b[0m\u001b[37m\u001b[0m \u001b[1m204s\u001b[0m 56ms/step - accuracy: 0.7153 - loss: 0.8388 - val_accuracy: 0.7444 - val_loss: 0.7753\n",
            "Epoch 14/15\n",
            "\u001b[1m3541/3541\u001b[0m \u001b[32m━━━━━━━━━━━━━━━━━━━━\u001b[0m\u001b[37m\u001b[0m \u001b[1m205s\u001b[0m 56ms/step - accuracy: 0.7387 - loss: 0.7870 - val_accuracy: 0.7406 - val_loss: 0.7757\n",
            "Epoch 15/15\n",
            "\u001b[1m3541/3541\u001b[0m \u001b[32m━━━━━━━━━━━━━━━━━━━━\u001b[0m\u001b[37m\u001b[0m \u001b[1m199s\u001b[0m 56ms/step - accuracy: 0.7639 - loss: 0.7328 - val_accuracy: 0.7669 - val_loss: 0.8491\n"
          ]
        }
      ],
      "source": [
        "# model = Sequential(\n",
        "#   [\n",
        "#     Embedding(10000, 128, embeddings_regularizer= l2(0.003)),\n",
        "#     Bidirectional(LSTM(128, return_sequences= True)),\n",
        "#     Bidirectional(LSTM(128, return_sequences = True)),\n",
        "#     Bidirectional(LSTM(128, return_sequences = True)),\n",
        "#     Bidirectional(LSTM(128)),\n",
        "#     Dense(7, activation = 'softmax')\n",
        "#   ]\n",
        "# )\n",
        "\n",
        "# model.compile(\n",
        "#   loss = SparseCategoricalCrossentropy(from_logits= False),\n",
        "#   optimizer = Adam(0.001),\n",
        "#   metrics = ['accuracy']\n",
        "# )\n",
        "\n",
        "# history = model.fit(\n",
        "#   X_train_pad, y_train,\n",
        "#   epochs = 15,\n",
        "#   batch_size = 32,\n",
        "#   validation_data = (X_cv_pad, y_cv),\n",
        "# )\n",
        "model = load_model('/content/drive/My Drive/Datasets/Health Analysis/model1_8.keras')"
      ]
    },
    {
      "cell_type": "markdown",
      "metadata": {
        "id": "FRepcel2XMIo"
      },
      "source": [
        "Save model and model weight"
      ]
    },
    {
      "cell_type": "code",
      "execution_count": 23,
      "metadata": {
        "id": "91lh521hXN3d"
      },
      "outputs": [],
      "source": [
        "# model.save('/content/drive/My Drive/Datasets/Health Analysis/model1_8.keras')\n",
        "# model.save_weights('/content/drive/My Drive/Datasets/Health Analysis/model_weights1_8.weights.h5')"
      ]
    },
    {
      "cell_type": "markdown",
      "metadata": {
        "id": "_Z_h0TYvXcEy"
      },
      "source": [
        "# **Performance Test**\n",
        "Model Evaluation using X_test and y_test"
      ]
    },
    {
      "cell_type": "code",
      "execution_count": 24,
      "metadata": {
        "colab": {
          "base_uri": "https://localhost:8080/"
        },
        "id": "Sg06V9f2XlqU",
        "outputId": "f07cc440-1b54-4a74-cbd7-100be1778c66"
      },
      "outputs": [
        {
          "name": "stdout",
          "output_type": "stream",
          "text": [
            "\u001b[1m9/9\u001b[0m \u001b[32m━━━━━━━━━━━━━━━━━━━━\u001b[0m\u001b[37m\u001b[0m \u001b[1m0s\u001b[0m 21ms/step - accuracy: 0.7931 - loss: 0.8312\n",
            "Test Accuracy: 80.38%\n"
          ]
        }
      ],
      "source": [
        "loss, accuracy = model.evaluate(X_test_pad, y_test)\n",
        "print(f\"Test Accuracy: {accuracy * 100:.2f}%\")\n"
      ]
    },
    {
      "cell_type": "markdown",
      "metadata": {
        "id": "kBKFteHM_Z0m"
      },
      "source": [
        "Using F1 Score"
      ]
    },
    {
      "cell_type": "code",
      "execution_count": 25,
      "metadata": {
        "colab": {
          "base_uri": "https://localhost:8080/",
          "height": 708
        },
        "id": "Q40e7_xNEWfb",
        "outputId": "2253e422-74de-4e2c-f698-8b59a334a650"
      },
      "outputs": [
        {
          "name": "stdout",
          "output_type": "stream",
          "text": [
            "\u001b[1m9/9\u001b[0m \u001b[32m━━━━━━━━━━━━━━━━━━━━\u001b[0m\u001b[37m\u001b[0m \u001b[1m1s\u001b[0m 93ms/step\n",
            "F1 Score for Normal: 93.49%\n",
            "F1 Score for Depression: 72.44%\n",
            "F1 Score for Suicidal: 74.78%\n",
            "F1 Score for Anxiety: 81.36%\n",
            "F1 Score for Bipolar: 86.67%\n",
            "F1 Score for Stress: 58.33%\n",
            "F1 Score for Personality disorder: 33.33%\n"
          ]
        },
        {
          "data": {
            "image/png": "[encoded data removed]",
            "text/plain": [
              "<Figure size 1100x700 with 1 Axes>"
            ]
          },
          "metadata": {},
          "output_type": "display_data"
        }
      ],
      "source": [
        "y_predict = np.argmax(model.predict(X_test_pad), axis = 1)\n",
        "f_score = f1_score(y_test, y_predict, average = None)\n",
        "classes = list(mapping.keys())\n",
        "\n",
        "for classes, fscore in zip(classes, f_score):\n",
        "  print(f\"F1 Score for {classes}: {fscore * 100:.2f}%\")\n",
        "\n",
        "classes = list(mapping.keys())\n",
        "\n",
        "plt.figure(figsize = (11, 7))\n",
        "plt.bar(classes, f_score*100, color = ['green', 'brown', 'red', 'purple', 'blue', 'orange', 'darkgrey'])\n",
        "plt.show()"
      ]
    }
  ],
  "metadata": {
    "accelerator": "GPU",
    "colab": {
      "gpuType": "T4",
      "history_visible": true,
      "provenance": []
    },
    "kernelspec": {
      "display_name": "Python 3",
      "name": "python3"
    },
    "language_info": {
      "name": "python"
    }
  },
  "nbformat": 4,
  "nbformat_minor": 0
}
